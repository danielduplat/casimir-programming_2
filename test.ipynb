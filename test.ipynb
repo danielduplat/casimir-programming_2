{
 "cells": [
  {
   "cell_type": "code",
   "execution_count": 1,
   "metadata": {},
   "outputs": [
    {
     "name": "stdout",
     "output_type": "stream",
     "text": [
      "hello world\n"
     ]
    }
   ],
   "source": [
    "print(\"hello world\")"
   ]
  },
  {
   "cell_type": "code",
   "execution_count": null,
   "metadata": {},
   "outputs": [],
   "source": [
    "def main():\n",
    "    radius = int(input(\"circle radius: \"))\n",
    "    unit = input(\"what is the unit? \")\n",
    "    pi = 3.14159\n",
    "    r = radius\n",
    "    c = 2*pi*r\n",
    "    a = pi*r*r\n",
    "    ratio = c / a\n",
    "    print('the radius of the circumference is',r, unit)\n",
    "    print(\"the length of the circumference is\",c, unit)\n",
    "    print(\"the area of the circumference is\",a, unit + '²')\n",
    "    print(\"the ratio of the circumference to its area is\",ratio,'[1/' + unit + ']')\n",
    "    print(\"second change\")\n",
    "main()"
   ]
  }
 ],
 "metadata": {
  "kernelspec": {
   "display_name": "Python 3",
   "language": "python",
   "name": "python3"
  },
  "language_info": {
   "codemirror_mode": {
    "name": "ipython",
    "version": 3
   },
   "file_extension": ".py",
   "mimetype": "text/x-python",
   "name": "python",
   "nbconvert_exporter": "python",
   "pygments_lexer": "ipython3",
   "version": "3.6.3"
  }
 },
 "nbformat": 4,
 "nbformat_minor": 2
}
